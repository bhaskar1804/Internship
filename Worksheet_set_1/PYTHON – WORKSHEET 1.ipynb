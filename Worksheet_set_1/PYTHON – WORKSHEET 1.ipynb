{
 "cells": [
  {
   "cell_type": "code",
   "execution_count": 68,
   "id": "d365d4c4",
   "metadata": {},
   "outputs": [],
   "source": [
    "#11.Write a python program to find the factorial of a number.\n",
    "\n",
    "def factorial(x):\n",
    "     if x < 0 :\n",
    "        return 0\n",
    "     elif x == 0 or x == 1:\n",
    "        return 1\n",
    "     else:\n",
    "        y = 1\n",
    "        while(x > 1):\n",
    "            y =y * x\n",
    "            x = x-1\n",
    "        return y\n",
    "    \n",
    " "
   ]
  },
  {
   "cell_type": "code",
   "execution_count": 71,
   "id": "576a7be3",
   "metadata": {},
   "outputs": [
    {
     "data": {
      "text/plain": [
       "24"
      ]
     },
     "execution_count": 71,
     "metadata": {},
     "output_type": "execute_result"
    }
   ],
   "source": [
    "factorial(4)"
   ]
  },
  {
   "cell_type": "code",
   "execution_count": 84,
   "id": "cfdccb9d",
   "metadata": {},
   "outputs": [],
   "source": [
    "#12. Write a python program to find whether a number is prime or composite\n",
    "\n",
    "\n",
    "def prime(x):\n",
    "    if x == 0 or x == 1 :\n",
    "        print('Number neither prime nor composite')\n",
    "    elif x<0 :\n",
    "        print('Please provide positive numbers')\n",
    "    else : \n",
    "        for i in range (2,x):\n",
    "            if (x%i == 0) : \n",
    "                print(\"Number is composite\")\n",
    "                break\n",
    "            else :\n",
    "                print('Number is prime')"
   ]
  },
  {
   "cell_type": "code",
   "execution_count": 86,
   "id": "160c6da3",
   "metadata": {},
   "outputs": [
    {
     "name": "stdout",
     "output_type": "stream",
     "text": [
      "Please provide positive numbers\n"
     ]
    }
   ],
   "source": [
    "prime(-10)"
   ]
  },
  {
   "cell_type": "code",
   "execution_count": 108,
   "id": "fb85dfff",
   "metadata": {},
   "outputs": [],
   "source": [
    "#13. Write a python program to check whether a given string is palindrome or not.\n",
    "\n",
    "def palindrome(a):\n",
    "    x=a[::-1]\n",
    "    if a==x :\n",
    "        print('true')\n",
    "    else  :\n",
    "        print ('false')\n",
    "    \n",
    "    \n",
    "    "
   ]
  },
  {
   "cell_type": "code",
   "execution_count": 112,
   "id": "06dcfdfd",
   "metadata": {},
   "outputs": [
    {
     "name": "stdout",
     "output_type": "stream",
     "text": [
      "true\n"
     ]
    }
   ],
   "source": [
    "palindrome('tat')"
   ]
  },
  {
   "cell_type": "code",
   "execution_count": 140,
   "id": "d2f819b1",
   "metadata": {},
   "outputs": [],
   "source": [
    "#14. Write a Python program to get the third side of right-angled triangle from two given sides\n",
    "\n",
    "import math\n",
    "\n",
    "def leng3(a,b):\n",
    "    c=2*(math.sqrt(a**2 - b**2))\n",
    "    print (round(c,3))"
   ]
  },
  {
   "cell_type": "code",
   "execution_count": 142,
   "id": "73cab71d",
   "metadata": {},
   "outputs": [
    {
     "name": "stdout",
     "output_type": "stream",
     "text": [
      "9.798\n"
     ]
    }
   ],
   "source": [
    "leng3(7,5)"
   ]
  },
  {
   "cell_type": "code",
   "execution_count": 134,
   "id": "b81000ee",
   "metadata": {},
   "outputs": [],
   "source": [
    "#15. Write a python program to print the frequency of each of the characters present in a given string.\n",
    "\n",
    "def charactercounter(x):\n",
    "    counter = {}\n",
    "    for i in x :\n",
    "        if i in counter :\n",
    "            counter[i] = counter[i] + 1\n",
    "        else :\n",
    "            counter[i]=1\n",
    "    print(counter)\n",
    "\n"
   ]
  },
  {
   "cell_type": "code",
   "execution_count": 136,
   "id": "f8046c1f",
   "metadata": {},
   "outputs": [
    {
     "name": "stdout",
     "output_type": "stream",
     "text": [
      "{'c': 2, 'h': 1, 'a': 2, 'r': 2, 't': 1, 'e': 1, 's': 1}\n"
     ]
    }
   ],
   "source": [
    "charactercounter('characters')"
   ]
  },
  {
   "cell_type": "code",
   "execution_count": null,
   "id": "1cf14505",
   "metadata": {},
   "outputs": [],
   "source": []
  }
 ],
 "metadata": {
  "kernelspec": {
   "display_name": "Python 3 (ipykernel)",
   "language": "python",
   "name": "python3"
  },
  "language_info": {
   "codemirror_mode": {
    "name": "ipython",
    "version": 3
   },
   "file_extension": ".py",
   "mimetype": "text/x-python",
   "name": "python",
   "nbconvert_exporter": "python",
   "pygments_lexer": "ipython3",
   "version": "3.9.7"
  }
 },
 "nbformat": 4,
 "nbformat_minor": 5
}
